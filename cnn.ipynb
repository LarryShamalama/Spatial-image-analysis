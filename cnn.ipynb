{
 "cells": [
  {
   "cell_type": "code",
   "execution_count": 2,
   "metadata": {},
   "outputs": [
    {
     "name": "stderr",
     "output_type": "stream",
     "text": [
      "Using TensorFlow backend.\n"
     ]
    }
   ],
   "source": [
    "import numpy as np\n",
    "import matplotlib.pyplot as plt\n",
    "import tensorflow as tf\n",
    "\n",
    "import keras\n",
    "from keras.models import Sequential\n",
    "from keras.layers import Dense, Conv2D, Dropout, Flatten, MaxPooling2D\n",
    "\n",
    "%matplotlib inline"
   ]
  },
  {
   "cell_type": "code",
   "execution_count": 3,
   "metadata": {},
   "outputs": [],
   "source": [
    "(x_train, y_train), (x_test, y_test) = tf.keras.datasets.mnist.load_data()\n",
    "x_train = x_train/255\n",
    "x_test  = x_test/255\n",
    "x_train = x_train.reshape(-1, 28, 28, 1)\n",
    "x_test  = x_test.reshape(-1, 28, 28, 1)"
   ]
  },
  {
   "cell_type": "code",
   "execution_count": 3,
   "metadata": {},
   "outputs": [
    {
     "name": "stdout",
     "output_type": "stream",
     "text": [
      "WARNING:tensorflow:From /anaconda3/envs/ml/lib/python3.6/site-packages/tensorflow/python/framework/op_def_library.py:263: colocate_with (from tensorflow.python.framework.ops) is deprecated and will be removed in a future version.\n",
      "Instructions for updating:\n",
      "Colocations handled automatically by placer.\n",
      "WARNING:tensorflow:From /anaconda3/envs/ml/lib/python3.6/site-packages/keras/backend/tensorflow_backend.py:3445: calling dropout (from tensorflow.python.ops.nn_ops) with keep_prob is deprecated and will be removed in a future version.\n",
      "Instructions for updating:\n",
      "Please use `rate` instead of `keep_prob`. Rate should be set to `rate = 1 - keep_prob`.\n"
     ]
    }
   ],
   "source": [
    "model = Sequential()\n",
    "model.add(Conv2D(28, kernel_size=(3,3), input_shape=(28, 28, 1)))\n",
    "model.add(MaxPooling2D(pool_size=(2, 2)))\n",
    "model.add(Flatten()) # Flattening the 2D arrays for fully connected layers\n",
    "model.add(Dense(128, activation=tf.nn.relu))\n",
    "model.add(Dropout(0.2))\n",
    "model.add(Dense(10,activation=tf.nn.softmax))"
   ]
  },
  {
   "cell_type": "code",
   "execution_count": 4,
   "metadata": {},
   "outputs": [
    {
     "name": "stdout",
     "output_type": "stream",
     "text": [
      "WARNING:tensorflow:From /anaconda3/envs/ml/lib/python3.6/site-packages/tensorflow/python/ops/math_ops.py:3066: to_int32 (from tensorflow.python.ops.math_ops) is deprecated and will be removed in a future version.\n",
      "Instructions for updating:\n",
      "Use tf.cast instead.\n",
      "Epoch 1/5\n",
      "60000/60000 [==============================] - 129s 2ms/step - loss: 0.1987 - acc: 0.9408\n",
      "Epoch 2/5\n",
      "60000/60000 [==============================] - 130s 2ms/step - loss: 0.0817 - acc: 0.9747\n",
      "Epoch 3/5\n",
      "60000/60000 [==============================] - 128s 2ms/step - loss: 0.0595 - acc: 0.9808\n",
      "Epoch 4/5\n",
      "60000/60000 [==============================] - 129s 2ms/step - loss: 0.0456 - acc: 0.9859\n",
      "Epoch 5/5\n",
      "60000/60000 [==============================] - 126s 2ms/step - loss: 0.0344 - acc: 0.9887\n"
     ]
    },
    {
     "data": {
      "text/plain": [
       "<keras.callbacks.History at 0xb4342a5c0>"
      ]
     },
     "execution_count": 4,
     "metadata": {},
     "output_type": "execute_result"
    }
   ],
   "source": [
    "model.compile(optimizer='adam', \n",
    "              loss='sparse_categorical_crossentropy', \n",
    "              metrics=['accuracy'])\n",
    "model.fit(x=x_train, \n",
    "          y=y_train, epochs=5)"
   ]
  },
  {
   "cell_type": "code",
   "execution_count": 5,
   "metadata": {},
   "outputs": [],
   "source": [
    "def plot_prediction(x, label, prob):\n",
    "    '''\n",
    "    x is a single image\n",
    "    '''\n",
    "    fig = plt.figure(figsize=(16, 7))\n",
    "    ax1 = fig.add_subplot(121)\n",
    "    ax1.imshow(x, cmap='Greys')\n",
    "    ax1.title('True label: ' + str(label))\n",
    "    ax2 = fig.add_subplot(122)\n",
    "    ax2.plot(prob)"
   ]
  },
  {
   "cell_type": "code",
   "execution_count": 6,
   "metadata": {},
   "outputs": [],
   "source": [
    "y_predict = model.predict(x=x_test) # takes times"
   ]
  },
  {
   "cell_type": "code",
   "execution_count": 7,
   "metadata": {},
   "outputs": [
    {
     "data": {
      "text/plain": [
       "array([  62,  115,  151,  217,  247,  282,  340,  431,  445,  447,  449,\n",
       "        495,  582,  619,  740,  760,  810,  839,  846,  883,  938,  956,\n",
       "       1014, 1039, 1112, 1182, 1226, 1232, 1242, 1247, 1260, 1319, 1393,\n",
       "       1414, 1444, 1522, 1527, 1549, 1553, 1621, 1709, 1754, 1790, 1800,\n",
       "       1878, 1901, 2018, 2035, 2043, 2053, 2070, 2109, 2118, 2129, 2130,\n",
       "       2135, 2182, 2280, 2293, 2329, 2369, 2405, 2414, 2454, 2488, 2654,\n",
       "       2771, 2896, 2921, 2927, 2939, 2953, 2970, 3060, 3073, 3108, 3225,\n",
       "       3289, 3475, 3503, 3520, 3558, 3567, 3597, 3681, 3718, 3726, 3727,\n",
       "       3730, 3762, 3778, 3780, 3818, 3853, 3893, 3906, 3941, 4065, 4075,\n",
       "       4078, 4176, 4205, 4248, 4289, 4382, 4425, 4477, 4497, 4536, 4547,\n",
       "       4615, 4635, 4639, 4740, 4751, 4783, 4807, 4823, 4860, 4880, 4886,\n",
       "       5331, 5642, 5734, 5749, 5887, 5936, 5955, 5973, 6166, 6532, 6574,\n",
       "       6597, 6599, 6632, 6651, 6755, 6783, 6847, 7216, 7249, 7472, 8183,\n",
       "       8325, 8408, 8520, 8527, 9009, 9015, 9019, 9587, 9634, 9664, 9679,\n",
       "       9698, 9729, 9755, 9770, 9782, 9839, 9944, 9982])"
      ]
     },
     "execution_count": 7,
     "metadata": {},
     "output_type": "execute_result"
    }
   ],
   "source": [
    "np.where(~(np.argmax(y_predict, axis=1) == y_test))[0]"
   ]
  },
  {
   "cell_type": "code",
   "execution_count": null,
   "metadata": {},
   "outputs": [],
   "source": [
    "plot_prediction(x_test[115], label=y_train[115], prob=y_predict[115])"
   ]
  },
  {
   "cell_type": "code",
   "execution_count": 32,
   "metadata": {},
   "outputs": [
    {
     "name": "stdout",
     "output_type": "stream",
     "text": [
      "Number of 0:  583\n",
      "Number of 1:  80\n"
     ]
    }
   ],
   "source": [
    "count_0 = 0\n",
    "count_1 = 0\n",
    "rest = []\n",
    "\n",
    "for x in (x_train[12].reshape(-1,)*255).astype(int):\n",
    "    if x == 0:\n",
    "        count_0 += 1\n",
    "    elif x in [255, 254]:\n",
    "        count_1 += 1\n",
    "    else:\n",
    "        rest.append(x)\n",
    "        \n",
    "print('Number of 0: ', count_0)\n",
    "print('Number of 1: ', count_1)"
   ]
  },
  {
   "cell_type": "code",
   "execution_count": null,
   "metadata": {},
   "outputs": [],
   "source": []
  }
 ],
 "metadata": {
  "kernelspec": {
   "display_name": "ml",
   "language": "python",
   "name": "ml"
  },
  "language_info": {
   "codemirror_mode": {
    "name": "ipython",
    "version": 3
   },
   "file_extension": ".py",
   "mimetype": "text/x-python",
   "name": "python",
   "nbconvert_exporter": "python",
   "pygments_lexer": "ipython3",
   "version": "3.6.8"
  }
 },
 "nbformat": 4,
 "nbformat_minor": 2
}
