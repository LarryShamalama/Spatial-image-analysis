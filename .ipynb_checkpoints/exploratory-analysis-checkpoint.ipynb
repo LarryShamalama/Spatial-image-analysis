{
 "cells": [
  {
   "cell_type": "code",
   "execution_count": 1,
   "metadata": {},
   "outputs": [],
   "source": [
    "import cython\n",
    "\n",
    "import numpy as np\n",
    "import matplotlib.pyplot as plt\n",
    "import tensorflow as tf\n",
    "import pymc3 as pm\n",
    "\n",
    "from theano import scan\n",
    "import theano.tensor as tt\n",
    "\n",
    "from pymc3.distributions import continuous\n",
    "from pymc3.distributions import distribution\n",
    "\n",
    "%matplotlib inline"
   ]
  },
  {
   "cell_type": "code",
   "execution_count": 2,
   "metadata": {},
   "outputs": [],
   "source": [
    "(x_train, y_train), (x_test, y_test) = tf.keras.datasets.mnist.load_data()\n",
    "x_train = x_train/255\n",
    "x_test  = x_test/255\n",
    "\n",
    "def subset(label, data=x_train, labels=y_train):\n",
    "    '''\n",
    "    e.g. subset(3) -> gets all pictures of digit 3\n",
    "    '''\n",
    "    assert label >= 0 and label <= 9\n",
    "    \n",
    "    return data[np.argwhere(labels == 3)]"
   ]
  },
  {
   "cell_type": "code",
   "execution_count": 3,
   "metadata": {},
   "outputs": [],
   "source": [
    "def plot(image, figsize=(16, 7)):\n",
    "    \n",
    "    plt.figure(figsize=figsize)\n",
    "    plt.imshow(image, cmap='Greys')\n",
    "    \n",
    "\n",
    "def plot_many():\n",
    "    pass"
   ]
  },
  {
   "cell_type": "code",
   "execution_count": 4,
   "metadata": {},
   "outputs": [
    {
     "data": {
      "image/png": "[encoded data removed]",
      "text/plain": [
       "<Figure size 720x360 with 1 Axes>"
      ]
     },
     "metadata": {
      "needs_background": "light"
     },
     "output_type": "display_data"
    }
   ],
   "source": [
    "dummy = x_train[12]\n",
    "plot(dummy, figsize=(10, 5))\n",
    "_ = plt.title('Label: ' + str(y_train[12]))"
   ]
  },
  {
   "cell_type": "code",
   "execution_count": 5,
   "metadata": {},
   "outputs": [],
   "source": [
    "O = np.concatenate(dummy)"
   ]
  },
  {
   "cell_type": "markdown",
   "metadata": {},
   "source": [
    "Taken from https://docs.pymc.io/notebooks/PyMC3_tips_and_heuristic.html"
   ]
  },
  {
   "cell_type": "code",
   "execution_count": 6,
   "metadata": {},
   "outputs": [],
   "source": [
    "class CAR(distribution.Continuous):\n",
    "    '''\n",
    "    Conditional Autoregressive (CAR) distribution\n",
    "\n",
    "    Parameters\n",
    "    ----------\n",
    "    a : list of adjacency information\n",
    "    w : list of weight information\n",
    "    tau : precision at each location\n",
    "    '''\n",
    "    def __init__(self, w, a, tau, *args, **kwargs):\n",
    "        super(CAR, self).__init__(*args, **kwargs)\n",
    "        self.a = tt.as_tensor_variable(a)\n",
    "        self.w = tt.as_tensor_variable(w)\n",
    "        self.tau = tau*tt.sum(w, axis=1)\n",
    "        self.mode = 0.\n",
    "\n",
    "    def get_mu(self, x):\n",
    "\n",
    "        def weigth_mu(w, a):\n",
    "            a1 = tt.cast(a, 'int32')\n",
    "            return tt.sum(w*x[a1])/tt.sum(w)\n",
    "\n",
    "        mu_w, _ = scan(fn=weigth_mu,\n",
    "                       sequences=[self.w, self.a])\n",
    "\n",
    "        return mu_w\n",
    "\n",
    "    def logp(self, x):\n",
    "        mu_w = self.get_mu(x)\n",
    "        tau = self.tau\n",
    "        return tt.sum(continuous.Normal.dist(mu=mu_w, tau=tau).logp(x))"
   ]
  },
  {
   "cell_type": "code",
   "execution_count": 7,
   "metadata": {},
   "outputs": [],
   "source": [
    "with pm.Model() as model:\n",
    "    beta0 = pm.Normal('beta0', mu=0., tau=1e-2)\n",
    "    \n",
    "    Yi = pm.LogitNormal()"
   ]
  },
  {
   "cell_type": "code",
   "execution_count": 10,
   "metadata": {},
   "outputs": [
    {
     "name": "stdout",
     "output_type": "stream",
     "text": [
      "Help on function Deterministic in module pymc3.model:\n",
      "\n",
      "Deterministic(name, var, model=None)\n",
      "    Create a named deterministic variable\n",
      "    \n",
      "    Parameters\n",
      "    ----------\n",
      "    name : str\n",
      "    var : theano variables\n",
      "    \n",
      "    Returns\n",
      "    -------\n",
      "    var : var, with name attribute\n",
      "\n"
     ]
    }
   ],
   "source": [
    "help(pm.Deterministic)"
   ]
  },
  {
   "cell_type": "code",
   "execution_count": 13,
   "metadata": {},
   "outputs": [],
   "source": [
    "adj = np.array([[5, 9, 11,19],\n",
    "                [7, 10],\n",
    "                [6, 12],\n",
    "                [18,20,28],\n",
    "                [1, 11,12,13,19],\n",
    "                [3, 8],\n",
    "                [2, 10,13,16,17],\n",
    "                [6],\n",
    "                [1, 11,17,19,23,29],\n",
    "                [2, 7, 16,22],\n",
    "                [1, 5, 9, 12],\n",
    "                [3, 5, 11],\n",
    "                [5, 7, 17,19],\n",
    "                [31,32,35],\n",
    "                [25,29,50],\n",
    "                [7, 10,17,21,22,29],\n",
    "                [7, 9, 13,16,19,29],\n",
    "                [4,20, 28,33,55,56],\n",
    "                [1, 5, 9, 13,17],\n",
    "                [4, 18,55],\n",
    "                [16,29,50],\n",
    "                [10,16],\n",
    "                [9, 29,34,36,37,39],\n",
    "                [27,30,31,44,47,48,55,56],\n",
    "                [15,26,29],\n",
    "                [25,29,42,43],\n",
    "                [24,31,32,55],\n",
    "                [4, 18,33,45],\n",
    "                [9, 15,16,17,21,23,25,26,34,43,50],\n",
    "                [24,38,42,44,45,56],\n",
    "                [14,24,27,32,35,46,47],\n",
    "                [14,27,31,35],\n",
    "                [18,28,45,56],\n",
    "                [23,29,39,40,42,43,51,52,54],\n",
    "                [14,31,32,37,46],\n",
    "                [23,37,39,41],\n",
    "                [23,35,36,41,46],\n",
    "                [30,42,44,49,51,54],\n",
    "                [23,34,36,40,41],\n",
    "                [34,39,41,49,52],\n",
    "                [36,37,39,40,46,49,53],\n",
    "                [26,30,34,38,43,51],\n",
    "                [26,29,34,42],\n",
    "                [24,30,38,48,49],\n",
    "                [28,30,33,56],\n",
    "                [31,35,37,41,47,53],\n",
    "                [24,31,46,48,49,53],\n",
    "                [24,44,47,49],\n",
    "                [38,40,41,44,47,48,52,53,54],\n",
    "                [15,21,29],\n",
    "                [34,38,42,54],\n",
    "                [34,40,49,54],\n",
    "                [41,46,47,49],\n",
    "                [34,38,49,51,52],\n",
    "                [18,20,24,27,56],\n",
    "                [18,24,30,33,45,55]])\n",
    "\n",
    "# Change to Python indexing (i.e. -1)\n",
    "for i in range(len(adj)):\n",
    "    for j in range(len(adj[i])):\n",
    "        adj[i][j] = adj[i][j]-1\n",
    "\n",
    "# spatial weight\n",
    "weights = np.array([[1,1,1,1],\n",
    "                    [1,1],\n",
    "                    [1,1],\n",
    "                    [1,1,1],\n",
    "                    [1,1,1,1,1],\n",
    "                    [1,1],\n",
    "                    [1,1,1,1,1],\n",
    "                    [1],\n",
    "                    [1,1,1,1,1,1],\n",
    "                    [1,1,1,1],\n",
    "                    [1,1,1,1],\n",
    "                    [1,1,1],\n",
    "                    [1,1,1,1],\n",
    "                    [1,1,1],\n",
    "                    [1,1,1],\n",
    "                    [1,1,1,1,1,1],\n",
    "                    [1,1,1,1,1,1],\n",
    "                    [1,1,1,1,1,1],\n",
    "                    [1,1,1,1,1],\n",
    "                    [1,1,1],\n",
    "                    [1,1,1],\n",
    "                    [1,1],\n",
    "                    [1,1,1,1,1,1],\n",
    "                    [1,1,1,1,1,1,1,1],\n",
    "                    [1,1,1],\n",
    "                    [1,1,1,1],\n",
    "                    [1,1,1,1],\n",
    "                    [1,1,1,1],\n",
    "                    [1,1,1,1,1,1,1,1,1,1,1],\n",
    "                    [1,1,1,1,1,1],\n",
    "                    [1,1,1,1,1,1,1],\n",
    "                    [1,1,1,1],\n",
    "                    [1,1,1,1],\n",
    "                    [1,1,1,1,1,1,1,1,1],\n",
    "                    [1,1,1,1,1],\n",
    "                    [1,1,1,1],\n",
    "                    [1,1,1,1,1],\n",
    "                    [1,1,1,1,1,1],\n",
    "                    [1,1,1,1,1],\n",
    "                    [1,1,1,1,1],\n",
    "                    [1,1,1,1,1,1,1],\n",
    "                    [1,1,1,1,1,1],\n",
    "                    [1,1,1,1],\n",
    "                    [1,1,1,1,1],\n",
    "                    [1,1,1,1],\n",
    "                    [1,1,1,1,1,1],\n",
    "                    [1,1,1,1,1,1],\n",
    "                    [1,1,1,1],\n",
    "                    [1,1,1,1,1,1,1,1,1],\n",
    "                    [1,1,1],\n",
    "                    [1,1,1,1],\n",
    "                    [1,1,1,1],\n",
    "                    [1,1,1,1],\n",
    "                    [1,1,1,1,1],\n",
    "                    [1,1,1,1,1],\n",
    "                    [1,1,1,1,1,1]])"
   ]
  },
  {
   "cell_type": "code",
   "execution_count": 69,
   "metadata": {},
   "outputs": [],
   "source": [
    "adj = []\n",
    "position_matrix = np.linspace(0, 28*28 - 1, num=28*28).astype(np.int64).reshape(28, 28)\n",
    "count = 0\n",
    "\n",
    "for i, row in enumerate(position_matrix):\n",
    "    for j, col in enumerate(position_matrix[i]):\n",
    "        assert position_matrix[i][j] == col\n",
    "        \n",
    "        temp = []\n",
    "\n",
    "        # change these loops if we do not want to\n",
    "        # include diagonal elements in adj matrix\n",
    "        for delta_i in [-1, 0, 1]:\n",
    "            for delta_j in [-1, 0, 1]:\n",
    "                if ((i + delta_i) // 28 == 0) and ((j + delta_j) // 28 == 0):    \n",
    "                    temp.append(position_matrix[i + delta_i][j + delta_j])\n",
    "        \n",
    "\n",
    "        temp.remove(col)\n",
    "        temp.sort()\n",
    "        adj.append(temp)\n",
    "        \n",
    "weights = [list(np.ones_like(adj_elems).astype(np.int64)) for adj_elems in adj]\n",
    "\n",
    "# below is taken from the pymc3 CAR tutorial website\n",
    "maxwz = max([sum(w) for w in weights])\n",
    "N = len(weights)\n",
    "wmat = np.zeros((N, maxwz))\n",
    "amat = np.zeros((N, maxwz), dtype='int32')\n",
    "for i, w in enumerate(weights):\n",
    "    wmat[i, np.arange(len(w))] = w\n",
    "    amat[i, np.arange(len(w))] = adj[i]"
   ]
  },
  {
   "cell_type": "code",
   "execution_count": null,
   "metadata": {},
   "outputs": [],
   "source": []
  }
 ],
 "metadata": {
  "kernelspec": {
   "display_name": "ml",
   "language": "python",
   "name": "ml"
  },
  "language_info": {
   "codemirror_mode": {
    "name": "ipython",
    "version": 3
   },
   "file_extension": ".py",
   "mimetype": "text/x-python",
   "name": "python",
   "nbconvert_exporter": "python",
   "pygments_lexer": "ipython3",
   "version": "3.6.8"
  }
 },
 "nbformat": 4,
 "nbformat_minor": 2
}
