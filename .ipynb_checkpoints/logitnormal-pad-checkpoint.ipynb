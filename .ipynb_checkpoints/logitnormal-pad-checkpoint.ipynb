{
 "cells": [
  {
   "cell_type": "code",
   "execution_count": 1,
   "metadata": {},
   "outputs": [],
   "source": [
    "import cython\n",
    "import numpy as np\n",
    "import matplotlib.pyplot as plt\n",
    "import tensorflow as tf\n",
    "import pymc3 as pm\n",
    "\n",
    "from utils.car_model import CAR2\n",
    "\n",
    "from theano import scan\n",
    "import theano.tensor as tt\n",
    "\n",
    "from pymc3.distributions import continuous\n",
    "from pymc3.distributions import distribution\n",
    "\n",
    "%config InlineBackend.figure_format = 'retina'\n",
    "plt.style.use('seaborn-darkgrid')"
   ]
  },
  {
   "cell_type": "code",
   "execution_count": 2,
   "metadata": {},
   "outputs": [],
   "source": [
    "(x_train, y_train), (x_test, y_test) = tf.keras.datasets.mnist.load_data()\n",
    "x_train = x_train/255\n",
    "x_test  = x_test/255\n",
    "\n",
    "def subset(label, data=x_train, labels=y_train):\n",
    "    '''\n",
    "    e.g. subset(3) -> gets all pictures of digit 3\n",
    "    '''\n",
    "    assert label >= 0 and label <= 9\n",
    "    \n",
    "    return data[np.argwhere(labels == 3)]"
   ]
  },
  {
   "cell_type": "code",
   "execution_count": 3,
   "metadata": {},
   "outputs": [],
   "source": [
    "def plot(image, figsize=(16, 7)):\n",
    "    \n",
    "    plt.figure(figsize=figsize)\n",
    "    plt.imshow(image, cmap='Greys')\n",
    "    \n",
    "\n",
    "def plot_many():\n",
    "    pass"
   ]
  },
  {
   "cell_type": "code",
   "execution_count": 4,
   "metadata": {},
   "outputs": [
    {
     "data": {
      "image/png": "[encoded data removed]",
      "text/plain": [
       "<Figure size 720x360 with 1 Axes>"
      ]
     },
     "metadata": {
      "image/png": {
       "height": 314,
       "width": 300
      },
      "needs_background": "light"
     },
     "output_type": "display_data"
    }
   ],
   "source": [
    "dummy = x_train[12]\n",
    "plot(dummy, figsize=(10, 5))\n",
    "_ = plt.title('Label: ' + str(y_train[12]))"
   ]
  },
  {
   "cell_type": "code",
   "execution_count": 5,
   "metadata": {},
   "outputs": [],
   "source": [
    "O = np.concatenate(dummy)"
   ]
  },
  {
   "cell_type": "markdown",
   "metadata": {},
   "source": [
    "Taken from https://docs.pymc.io/notebooks/PyMC3_tips_and_heuristic.html"
   ]
  },
  {
   "cell_type": "code",
   "execution_count": 6,
   "metadata": {},
   "outputs": [],
   "source": [
    "adj = []\n",
    "position_matrix = np.linspace(0, 28*28 - 1, num=28*28).astype(np.int64).reshape(28, 28)\n",
    "count = 0\n",
    "\n",
    "for i, row in enumerate(position_matrix):\n",
    "    for j, col in enumerate(position_matrix[i]):\n",
    "        assert position_matrix[i][j] == col\n",
    "        \n",
    "        temp = []\n",
    "\n",
    "        # change these loops if we do not want to\n",
    "        # include diagonal elements in adj matrix\n",
    "        for delta_i in [-1, 0, 1]:\n",
    "            for delta_j in [-1, 0, 1]:\n",
    "                if ((i + delta_i) // 28 == 0) and ((j + delta_j) // 28 == 0):    \n",
    "                    temp.append(position_matrix[i + delta_i][j + delta_j])\n",
    "        \n",
    "\n",
    "        temp.remove(col)\n",
    "        temp.sort()\n",
    "        adj.append(temp)\n",
    "        \n",
    "weights = [list(np.ones_like(adj_elems).astype(np.int64)) for adj_elems in adj]\n",
    "\n",
    "# below is taken from the pymc3 CAR tutorial website\n",
    "maxwz = max([sum(w) for w in weights])\n",
    "N = len(weights)\n",
    "wmat2 = np.zeros((N, N))\n",
    "amat2 = np.zeros((N, N), dtype='int32')\n",
    "for i, a in enumerate(adj):\n",
    "    amat2[i, a] = 1\n",
    "    wmat2[i, a] = weights[i]"
   ]
  },
  {
   "cell_type": "code",
   "execution_count": 7,
   "metadata": {},
   "outputs": [],
   "source": [
    "def pad(array, epsilon=1e-4):\n",
    "    output = []\n",
    "    \n",
    "    for x in array:\n",
    "        if x == 0:\n",
    "            output.append(epsilon)\n",
    "        elif x == 1:\n",
    "            output.append(1 - epsilon)\n",
    "        else:\n",
    "            output.append(x)\n",
    "            \n",
    "    return output"
   ]
  },
  {
   "cell_type": "code",
   "execution_count": null,
   "metadata": {},
   "outputs": [
    {
     "name": "stderr",
     "output_type": "stream",
     "text": [
      "Auto-assigning NUTS sampler...\n",
      "Initializing NUTS using jitter+adapt_diag...\n",
      "Multiprocess sampling (2 chains in 2 jobs)\n",
      "NUTS: [mu_phi, tau_c, beta0]\n",
      "Sampling 2 chains:  63%|██████▎   | 3128/5000 [17:27<2:55:11,  5.62s/draws]"
     ]
    }
   ],
   "source": [
    "with pm.Model() as model:\n",
    "    beta0  = pm.Normal('beta0', mu=0., tau=1e-2)\n",
    "    tau    = pm.Gamma('tau_c', alpha=1.0, beta=1.0)\n",
    "    mu_phi = CAR2('mu_phi', w=wmat2, a=amat2, tau=tau, shape=N)\n",
    "    phi    = pm.Deterministic('phi', mu_phi-tt.mean(mu_phi)) # zero-center phi\n",
    "    \n",
    "    \n",
    "    mu = pm.Deterministic('mu', beta0 + phi)\n",
    "    Yi = pm.LogitNormal('Yi', mu=mu, observed=pad(O))\n",
    "    \n",
    "    trace = pm.sample(draws=2000, chains=2)\n",
    "    #trace = pm.sample(draws=2000, step=pm.Metropolis())\n",
    "    posterior_pred = pm.sample_posterior_predictive(trace)"
   ]
  },
  {
   "cell_type": "markdown",
   "metadata": {},
   "source": [
    "Check average proportion of pixels equal to 0 and 1 (or near 1, i.e. 253 or 254)"
   ]
  },
  {
   "cell_type": "code",
   "execution_count": null,
   "metadata": {},
   "outputs": [],
   "source": [
    "_ = pm.traceplot(trace, varnames=['beta0', 'tau_c'])"
   ]
  },
  {
   "cell_type": "code",
   "execution_count": null,
   "metadata": {},
   "outputs": [],
   "source": [
    "plot(np.mean(trace.get_values('phi'), axis=0).reshape(28, 28))"
   ]
  },
  {
   "cell_type": "code",
   "execution_count": null,
   "metadata": {},
   "outputs": [],
   "source": [
    "plot(np.std(trace.get_values('phi'), axis=0).reshape(28, 28))"
   ]
  },
  {
   "cell_type": "code",
   "execution_count": null,
   "metadata": {},
   "outputs": [],
   "source": [
    "_ = plt.hist(x_train[12].reshape(-1), bins=15)"
   ]
  },
  {
   "cell_type": "code",
   "execution_count": null,
   "metadata": {},
   "outputs": [],
   "source": [
    "for x in trace.get_values('beta0'):\n",
    "    print(x)"
   ]
  },
  {
   "cell_type": "code",
   "execution_count": null,
   "metadata": {},
   "outputs": [],
   "source": []
  }
 ],
 "metadata": {
  "kernelspec": {
   "display_name": "ml",
   "language": "python",
   "name": "ml"
  },
  "language_info": {
   "codemirror_mode": {
    "name": "ipython",
    "version": 3
   },
   "file_extension": ".py",
   "mimetype": "text/x-python",
   "name": "python",
   "nbconvert_exporter": "python",
   "pygments_lexer": "ipython3",
   "version": "3.6.8"
  }
 },
 "nbformat": 4,
 "nbformat_minor": 2
}
