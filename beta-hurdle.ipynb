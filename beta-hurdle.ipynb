{
 "cells": [
  {
   "cell_type": "code",
   "execution_count": 10,
   "metadata": {},
   "outputs": [],
   "source": [
    "import cython\n",
    "import numpy as np\n",
    "import matplotlib.pyplot as plt\n",
    "import tensorflow as tf\n",
    "import pymc3 as pm\n",
    "\n",
    "from utils.car_model import CAR2\n",
    "\n",
    "from theano import scan\n",
    "import theano.tensor as tt\n",
    "\n",
    "from pymc3.distributions import continuous\n",
    "from pymc3.distributions import distribution\n",
    "\n",
    "%config InlineBackend.figure_format = 'retina'\n",
    "plt.style.use('seaborn-darkgrid')"
   ]
  },
  {
   "cell_type": "code",
   "execution_count": 4,
   "metadata": {},
   "outputs": [],
   "source": [
    "(x_train, y_train), (x_test, y_test) = tf.keras.datasets.mnist.load_data()\n",
    "x_train = x_train/255\n",
    "x_test  = x_test/255\n",
    "\n",
    "dummy = x_train[12]\n",
    "\n",
    "def subset(label, data=x_train, labels=y_train):\n",
    "    '''\n",
    "    e.g. subset(3) -> gets all pictures of digit 3\n",
    "    '''\n",
    "    assert label >= 0 and label <= 9\n",
    "    \n",
    "    return data[np.argwhere(labels == 3)]"
   ]
  },
  {
   "cell_type": "code",
   "execution_count": 5,
   "metadata": {},
   "outputs": [],
   "source": [
    "O = np.concatenate(dummy)\n",
    "\n",
    "adj = []\n",
    "position_matrix = np.linspace(0, 28*28 - 1, num=28*28).astype(np.int64).reshape(28, 28)\n",
    "count = 0\n",
    "\n",
    "for i, row in enumerate(position_matrix):\n",
    "    for j, col in enumerate(position_matrix[i]):\n",
    "        assert position_matrix[i][j] == col\n",
    "        \n",
    "        temp = []\n",
    "\n",
    "        # change these loops if we do not want to\n",
    "        # include diagonal elements in adj matrix\n",
    "        for delta_i in [-1, 0, 1]:\n",
    "            for delta_j in [-1, 0, 1]:\n",
    "                if ((i + delta_i) // 28 == 0) and ((j + delta_j) // 28 == 0):    \n",
    "                    temp.append(position_matrix[i + delta_i][j + delta_j])\n",
    "        \n",
    "\n",
    "        temp.remove(col)\n",
    "        temp.sort()\n",
    "        adj.append(temp)\n",
    "        \n",
    "weights = [list(np.ones_like(adj_elems).astype(np.int64)) for adj_elems in adj]\n",
    "\n",
    "# below is taken from the pymc3 CAR tutorial website\n",
    "maxwz = max([sum(w) for w in weights])\n",
    "N = len(weights)\n",
    "wmat2 = np.zeros((N, N))\n",
    "amat2 = np.zeros((N, N), dtype='int32')\n",
    "for i, a in enumerate(adj):\n",
    "    amat2[i, a] = 1\n",
    "    wmat2[i, a] = weights[i]"
   ]
  },
  {
   "cell_type": "code",
   "execution_count": 11,
   "metadata": {},
   "outputs": [
    {
     "ename": "NameError",
     "evalue": "name 'pad' is not defined",
     "output_type": "error",
     "traceback": [
      "\u001b[0;31m---------------------------------------------------------------------------\u001b[0m",
      "\u001b[0;31mNameError\u001b[0m                                 Traceback (most recent call last)",
      "\u001b[0;32m<ipython-input-11-ba750566bebe>\u001b[0m in \u001b[0;36m<module>\u001b[0;34m\u001b[0m\n\u001b[1;32m      6\u001b[0m \u001b[0;34m\u001b[0m\u001b[0m\n\u001b[1;32m      7\u001b[0m     \u001b[0mmu\u001b[0m \u001b[0;34m=\u001b[0m \u001b[0mpm\u001b[0m\u001b[0;34m.\u001b[0m\u001b[0mDeterministic\u001b[0m\u001b[0;34m(\u001b[0m\u001b[0;34m'mu'\u001b[0m\u001b[0;34m,\u001b[0m \u001b[0mbeta0\u001b[0m \u001b[0;34m+\u001b[0m \u001b[0mphi\u001b[0m\u001b[0;34m)\u001b[0m\u001b[0;34m\u001b[0m\u001b[0;34m\u001b[0m\u001b[0m\n\u001b[0;32m----> 8\u001b[0;31m     \u001b[0mYi\u001b[0m \u001b[0;34m=\u001b[0m \u001b[0mpm\u001b[0m\u001b[0;34m.\u001b[0m\u001b[0mLogitNormal\u001b[0m\u001b[0;34m(\u001b[0m\u001b[0;34m'Yi'\u001b[0m\u001b[0;34m,\u001b[0m \u001b[0mmu\u001b[0m\u001b[0;34m=\u001b[0m\u001b[0mmu\u001b[0m\u001b[0;34m,\u001b[0m \u001b[0mobserved\u001b[0m\u001b[0;34m=\u001b[0m\u001b[0mpad\u001b[0m\u001b[0;34m(\u001b[0m\u001b[0mO\u001b[0m\u001b[0;34m)\u001b[0m\u001b[0;34m)\u001b[0m\u001b[0;34m\u001b[0m\u001b[0;34m\u001b[0m\u001b[0m\n\u001b[0m\u001b[1;32m      9\u001b[0m \u001b[0;34m\u001b[0m\u001b[0m\n\u001b[1;32m     10\u001b[0m     \u001b[0mtrace\u001b[0m \u001b[0;34m=\u001b[0m \u001b[0mpm\u001b[0m\u001b[0;34m.\u001b[0m\u001b[0msample\u001b[0m\u001b[0;34m(\u001b[0m\u001b[0mdraws\u001b[0m\u001b[0;34m=\u001b[0m\u001b[0;36m2000\u001b[0m\u001b[0;34m,\u001b[0m \u001b[0mcores\u001b[0m\u001b[0;34m=\u001b[0m\u001b[0;36m1\u001b[0m\u001b[0;34m)\u001b[0m\u001b[0;34m\u001b[0m\u001b[0;34m\u001b[0m\u001b[0m\n",
      "\u001b[0;31mNameError\u001b[0m: name 'pad' is not defined"
     ]
    }
   ],
   "source": [
    "def expit(x):\n",
    "    return tt.exp(x)/(1 + tt.exp(x))\n",
    "\n",
    "with pm.Model() as model:\n",
    "    beta0  = pm.Normal('beta0', mu=0., tau=1e-2)\n",
    "    tau    = pm.Gamma('tau_c', alpha=1.0, beta=1.0)\n",
    "    mu_phi = CAR2('mu_phi', w=wmat2, a=amat2, tau=tau, shape=N)\n",
    "    phi    = pm.Deterministic('phi', mu_phi-tt.mean(mu_phi)) # zero-center phi\n",
    "    \n",
    "    pi_0 = pm.Uniform('pi_0', lower=0, upper=1)\n",
    "    pi_1 = pm.Uniform('pi_1', lower=0, upper=1-pi_0)\n",
    "    \n",
    "    mu = pm.Deterministic('mu', beta0 + phi)\n",
    "    logit_Yi = pm.LogitNormal('Yi', mu=mu, observed=pad(O))\n",
    "    Yi = expit(logit_yi)\n",
    "    Zi = pm.Mixture('Zi', w=[pi_0, pi_1, 1 - pi_0 - pi_1], )\n",
    "    \n",
    "    trace = pm.sample(draws=2000, cores=1)\n",
    "    posterior_pred = pm.sample_posterior_predictive(trace)"
   ]
  },
  {
   "cell_type": "code",
   "execution_count": null,
   "metadata": {},
   "outputs": [],
   "source": [
    "pm.Mixture()"
   ]
  }
 ],
 "metadata": {
  "kernelspec": {
   "display_name": "ml",
   "language": "python",
   "name": "ml"
  },
  "language_info": {
   "codemirror_mode": {
    "name": "ipython",
    "version": 3
   },
   "file_extension": ".py",
   "mimetype": "text/x-python",
   "name": "python",
   "nbconvert_exporter": "python",
   "pygments_lexer": "ipython3",
   "version": "3.6.8"
  }
 },
 "nbformat": 4,
 "nbformat_minor": 2
}
